{
 "cells": [
  {
   "cell_type": "code",
   "execution_count": 1,
   "id": "7668d01c",
   "metadata": {},
   "outputs": [],
   "source": [
    "record= {\"1\":{ \"name\":\"Bread\",\"ex_date\":'21-6-2022',\"price\":12,\"quantity\":1,\"In Stock\":100},\n",
    "         \"2\":{ \"name\":\"Jam\",\"ex_date\":'22-7-2022',\"price\":45,\"quantity\":2,\"In Stock\":100},\n",
    "         \"3\":{ \"name\":\"Spinach\",\"ex_date\":'23-5-2022',\"price\":20,\"quantity\":3,\"In Stock\":100},\n",
    "         \"4\":{ \"name\":\"Apple_cake\",\"ex_date\":'24-5-2022',\"price\":525,\"quantity\":1,\"In Stock\":100},\n",
    "         \"5\":{ \"name\":\"Barbon\",\"ex_date\":'13-5-2022',\"price\":15,\"quantity\":1,\"In Stock\":100},\n",
    "         \"6\":{ \"name\":\"Carrot\",\"ex_date\":'23-7-2022',\"price\":5,\"quantity\":1,\"In Stock\":100},\n",
    "         \"7\":{ \"name\":\"Ladies finger\",\"ex_date\":'23-8-2022',\"price\":25,\"quantity\":1,\"In Stock\":100},\n",
    "         \"8\":{ \"name\":\"Soap\",\"ex_date\":'23-2-2022',\"price\":100,\"quantity\":1,\"In Stock\":100},\n",
    "         \"9\":{ \"name\":\"Sampoo\",\"ex_date\":'26-5-2022',\"price\":30,\"quantity\":5,\"In Stock\":100},\n",
    "         \"10\":{ \"name\":\"Biscut\",\"ex_date\":'3-5-2022',\"price\":35,\"quantity\":1,\"In Stock\":100},\n",
    "         \"11\":{ \"name\":\"Chocolate\",\"ex_date\":'3-5-2022',\"price\":5,\"quantity\":1,\"In Stock\":100},\n",
    "         \"12\":{ \"name\":\"Good Day\",\"ex_date\":'3-5-2023',\"price\":10,\"quantity\":1,\"In Stock\":100},\n",
    "         \"13\":{ \"name\":\"Dairy Milk\",\"ex_date\":'3-7-2022',\"price\":40,\"quantity\":2,\"In Stock\":1000},\n",
    "         \"14\":{ \"name\":\"Munch\",\"ex_date\":'3-5-2022',\"price\":35,\"quantity\":1,\"In Stock\":100},\n",
    "         \"15\":{ \"name\":\"Cherry\",\"ex_date\":'3-5-2022',\"price\":45,\"quantity\":1,\"In Stock\":190},\n",
    "         \"16\":{ \"name\":\"Almond\",\"ex_date\":'17-6-2027',\"price\":34,\"quantity\":2,\"In Stock\":560},\n",
    "         \"17\":{ \"name\":\"Cashew\",\"ex_date\":'4-5-2022',\"price\":200,\"quantity\":3,\"In Stock\":700},\n",
    "         \"18\":{ \"name\":\"Walnut\",\"ex_date\":'3-5-2023',\"price\":700,\"quantity\":1,\"In Stock\":650},\n",
    "         \"19\":{ \"name\":\"fanta\",\"ex_date\":'3-5-2027',\"price\":50,\"quantity\":1,\"In Stock\":3450},\n",
    "         \"20\":{ \"name\":\"Cocke\",\"ex_date\":'3-5-2027',\"price\":45,\"quantity\":6,\"In Stock\":564},\n",
    "         \"21\":{ \"name\":\"Brinjal\",\"ex_date\":'3-5-2022',\"price\":35,\"quantity\":1,\"In Stock\":543},\n",
    "         \"22\":{ \"name\":\"Milky Chanky\",\"ex_date\":'3-5-2022',\"price\":95,\"quantity\":4,\"In Stock\":654},\n",
    "         \"23\":{ \"name\":\"Boost\",\"ex_date\":'3-5-2022',\"price\":95,\"quantity\":4,\"In Stock\":654},\n",
    "         \"24\":{ \"name\":\"Horlicks\",\"ex_date\":'3-5-2022',\"price\":95,\"quantity\":3,\"In Stock\":654},\n",
    "         \"25\":{ \"name\":\"Earphone\",\"ex_date\":'3-5-2022',\"price\":95,\"quantity\":4,\"In Stock\":654},\n",
    "         \"26\":{ \"name\":\"Mouse\",\"ex_date\":'3-6-2022',\"price\":95,\"quantity\":1,\"In Stock\":654},\n",
    "         \"27\":{ \"name\":\"Oreo\",\"ex_date\":'3-7-2022',\"price\":95,\"quantity\":2,\"In Stock\":654},\n",
    "         \"28\":{ \"name\":\"Snacks\",\"ex_date\":'4-5-2022',\"price\":95,\"quantity\":4,\"In Stock\":654},\n",
    "         \"29\":{ \"name\":\"Chips\",\"ex_date\":'5-5-2022',\"price\":95,\"quantity\":1,\"In Stock\":654},\n",
    "         \"30\":{ \"name\":\"Bonvita\",\"ex_date\":'7-5-2022',\"price\":95,\"quantity\":5,\"In Stock\":654},\n",
    "        }"
   ]
  },
  {
   "cell_type": "code",
   "execution_count": 2,
   "id": "49563c82",
   "metadata": {},
   "outputs": [],
   "source": [
    "import json"
   ]
  },
  {
   "cell_type": "code",
   "execution_count": 3,
   "id": "cc2df7e6",
   "metadata": {},
   "outputs": [
    {
     "data": {
      "text/plain": [
       "{'1': {'name': 'Bread',\n",
       "  'ex_date': '21-6-2022',\n",
       "  'price': 12,\n",
       "  'quantity': 1,\n",
       "  'In Stock': 100},\n",
       " '2': {'name': 'Jam',\n",
       "  'ex_date': '22-7-2022',\n",
       "  'price': 45,\n",
       "  'quantity': 2,\n",
       "  'In Stock': 100},\n",
       " '3': {'name': 'Spinach',\n",
       "  'ex_date': '23-5-2022',\n",
       "  'price': 20,\n",
       "  'quantity': 3,\n",
       "  'In Stock': 100},\n",
       " '4': {'name': 'Apple_cake',\n",
       "  'ex_date': '24-5-2022',\n",
       "  'price': 525,\n",
       "  'quantity': 1,\n",
       "  'In Stock': 100},\n",
       " '5': {'name': 'Barbon',\n",
       "  'ex_date': '13-5-2022',\n",
       "  'price': 15,\n",
       "  'quantity': 1,\n",
       "  'In Stock': 100},\n",
       " '6': {'name': 'Carrot',\n",
       "  'ex_date': '23-7-2022',\n",
       "  'price': 5,\n",
       "  'quantity': 1,\n",
       "  'In Stock': 100},\n",
       " '7': {'name': 'Ladies finger',\n",
       "  'ex_date': '23-8-2022',\n",
       "  'price': 25,\n",
       "  'quantity': 1,\n",
       "  'In Stock': 100},\n",
       " '8': {'name': 'Soap',\n",
       "  'ex_date': '23-2-2022',\n",
       "  'price': 100,\n",
       "  'quantity': 1,\n",
       "  'In Stock': 100},\n",
       " '9': {'name': 'Sampoo',\n",
       "  'ex_date': '26-5-2022',\n",
       "  'price': 30,\n",
       "  'quantity': 5,\n",
       "  'In Stock': 100},\n",
       " '10': {'name': 'Biscut',\n",
       "  'ex_date': '3-5-2022',\n",
       "  'price': 35,\n",
       "  'quantity': 1,\n",
       "  'In Stock': 100},\n",
       " '11': {'name': 'Chocolate',\n",
       "  'ex_date': '3-5-2022',\n",
       "  'price': 5,\n",
       "  'quantity': 1,\n",
       "  'In Stock': 100},\n",
       " '12': {'name': 'Good Day',\n",
       "  'ex_date': '3-5-2023',\n",
       "  'price': 10,\n",
       "  'quantity': 1,\n",
       "  'In Stock': 100},\n",
       " '13': {'name': 'Dairy Milk',\n",
       "  'ex_date': '3-7-2022',\n",
       "  'price': 40,\n",
       "  'quantity': 2,\n",
       "  'In Stock': 1000},\n",
       " '14': {'name': 'Munch',\n",
       "  'ex_date': '3-5-2022',\n",
       "  'price': 35,\n",
       "  'quantity': 1,\n",
       "  'In Stock': 100},\n",
       " '15': {'name': 'Cherry',\n",
       "  'ex_date': '3-5-2022',\n",
       "  'price': 45,\n",
       "  'quantity': 1,\n",
       "  'In Stock': 190},\n",
       " '16': {'name': 'Almond',\n",
       "  'ex_date': '17-6-2027',\n",
       "  'price': 34,\n",
       "  'quantity': 2,\n",
       "  'In Stock': 560},\n",
       " '17': {'name': 'Cashew',\n",
       "  'ex_date': '4-5-2022',\n",
       "  'price': 200,\n",
       "  'quantity': 3,\n",
       "  'In Stock': 700},\n",
       " '18': {'name': 'Walnut',\n",
       "  'ex_date': '3-5-2023',\n",
       "  'price': 700,\n",
       "  'quantity': 1,\n",
       "  'In Stock': 650},\n",
       " '19': {'name': 'fanta',\n",
       "  'ex_date': '3-5-2027',\n",
       "  'price': 50,\n",
       "  'quantity': 1,\n",
       "  'In Stock': 3450},\n",
       " '20': {'name': 'Cocke',\n",
       "  'ex_date': '3-5-2027',\n",
       "  'price': 45,\n",
       "  'quantity': 6,\n",
       "  'In Stock': 564},\n",
       " '21': {'name': 'Brinjal',\n",
       "  'ex_date': '3-5-2022',\n",
       "  'price': 35,\n",
       "  'quantity': 1,\n",
       "  'In Stock': 543},\n",
       " '22': {'name': 'Milky Chanky',\n",
       "  'ex_date': '3-5-2022',\n",
       "  'price': 95,\n",
       "  'quantity': 4,\n",
       "  'In Stock': 654},\n",
       " '23': {'name': 'Boost',\n",
       "  'ex_date': '3-5-2022',\n",
       "  'price': 95,\n",
       "  'quantity': 4,\n",
       "  'In Stock': 654},\n",
       " '24': {'name': 'Horlicks',\n",
       "  'ex_date': '3-5-2022',\n",
       "  'price': 95,\n",
       "  'quantity': 3,\n",
       "  'In Stock': 654},\n",
       " '25': {'name': 'Earphone',\n",
       "  'ex_date': '3-5-2022',\n",
       "  'price': 95,\n",
       "  'quantity': 4,\n",
       "  'In Stock': 654},\n",
       " '26': {'name': 'Mouse',\n",
       "  'ex_date': '3-6-2022',\n",
       "  'price': 95,\n",
       "  'quantity': 1,\n",
       "  'In Stock': 654},\n",
       " '27': {'name': 'Oreo',\n",
       "  'ex_date': '3-7-2022',\n",
       "  'price': 95,\n",
       "  'quantity': 2,\n",
       "  'In Stock': 654},\n",
       " '28': {'name': 'Snacks',\n",
       "  'ex_date': '4-5-2022',\n",
       "  'price': 95,\n",
       "  'quantity': 4,\n",
       "  'In Stock': 654},\n",
       " '29': {'name': 'Chips',\n",
       "  'ex_date': '5-5-2022',\n",
       "  'price': 95,\n",
       "  'quantity': 1,\n",
       "  'In Stock': 654},\n",
       " '30': {'name': 'Bonvita',\n",
       "  'ex_date': '7-5-2022',\n",
       "  'price': 95,\n",
       "  'quantity': 5,\n",
       "  'In Stock': 654}}"
      ]
     },
     "execution_count": 3,
     "metadata": {},
     "output_type": "execute_result"
    }
   ],
   "source": [
    "record"
   ]
  },
  {
   "cell_type": "code",
   "execution_count": 4,
   "id": "dc871d73",
   "metadata": {},
   "outputs": [],
   "source": [
    "js=json.dumps(record)"
   ]
  },
  {
   "cell_type": "code",
   "execution_count": 5,
   "id": "79884a42",
   "metadata": {},
   "outputs": [
    {
     "data": {
      "text/plain": [
       "'{\"1\": {\"name\": \"Bread\", \"ex_date\": \"21-6-2022\", \"price\": 12, \"quantity\": 1, \"In Stock\": 100}, \"2\": {\"name\": \"Jam\", \"ex_date\": \"22-7-2022\", \"price\": 45, \"quantity\": 2, \"In Stock\": 100}, \"3\": {\"name\": \"Spinach\", \"ex_date\": \"23-5-2022\", \"price\": 20, \"quantity\": 3, \"In Stock\": 100}, \"4\": {\"name\": \"Apple_cake\", \"ex_date\": \"24-5-2022\", \"price\": 525, \"quantity\": 1, \"In Stock\": 100}, \"5\": {\"name\": \"Barbon\", \"ex_date\": \"13-5-2022\", \"price\": 15, \"quantity\": 1, \"In Stock\": 100}, \"6\": {\"name\": \"Carrot\", \"ex_date\": \"23-7-2022\", \"price\": 5, \"quantity\": 1, \"In Stock\": 100}, \"7\": {\"name\": \"Ladies finger\", \"ex_date\": \"23-8-2022\", \"price\": 25, \"quantity\": 1, \"In Stock\": 100}, \"8\": {\"name\": \"Soap\", \"ex_date\": \"23-2-2022\", \"price\": 100, \"quantity\": 1, \"In Stock\": 100}, \"9\": {\"name\": \"Sampoo\", \"ex_date\": \"26-5-2022\", \"price\": 30, \"quantity\": 5, \"In Stock\": 100}, \"10\": {\"name\": \"Biscut\", \"ex_date\": \"3-5-2022\", \"price\": 35, \"quantity\": 1, \"In Stock\": 100}, \"11\": {\"name\": \"Chocolate\", \"ex_date\": \"3-5-2022\", \"price\": 5, \"quantity\": 1, \"In Stock\": 100}, \"12\": {\"name\": \"Good Day\", \"ex_date\": \"3-5-2023\", \"price\": 10, \"quantity\": 1, \"In Stock\": 100}, \"13\": {\"name\": \"Dairy Milk\", \"ex_date\": \"3-7-2022\", \"price\": 40, \"quantity\": 2, \"In Stock\": 1000}, \"14\": {\"name\": \"Munch\", \"ex_date\": \"3-5-2022\", \"price\": 35, \"quantity\": 1, \"In Stock\": 100}, \"15\": {\"name\": \"Cherry\", \"ex_date\": \"3-5-2022\", \"price\": 45, \"quantity\": 1, \"In Stock\": 190}, \"16\": {\"name\": \"Almond\", \"ex_date\": \"17-6-2027\", \"price\": 34, \"quantity\": 2, \"In Stock\": 560}, \"17\": {\"name\": \"Cashew\", \"ex_date\": \"4-5-2022\", \"price\": 200, \"quantity\": 3, \"In Stock\": 700}, \"18\": {\"name\": \"Walnut\", \"ex_date\": \"3-5-2023\", \"price\": 700, \"quantity\": 1, \"In Stock\": 650}, \"19\": {\"name\": \"fanta\", \"ex_date\": \"3-5-2027\", \"price\": 50, \"quantity\": 1, \"In Stock\": 3450}, \"20\": {\"name\": \"Cocke\", \"ex_date\": \"3-5-2027\", \"price\": 45, \"quantity\": 6, \"In Stock\": 564}, \"21\": {\"name\": \"Brinjal\", \"ex_date\": \"3-5-2022\", \"price\": 35, \"quantity\": 1, \"In Stock\": 543}, \"22\": {\"name\": \"Milky Chanky\", \"ex_date\": \"3-5-2022\", \"price\": 95, \"quantity\": 4, \"In Stock\": 654}, \"23\": {\"name\": \"Boost\", \"ex_date\": \"3-5-2022\", \"price\": 95, \"quantity\": 4, \"In Stock\": 654}, \"24\": {\"name\": \"Horlicks\", \"ex_date\": \"3-5-2022\", \"price\": 95, \"quantity\": 3, \"In Stock\": 654}, \"25\": {\"name\": \"Earphone\", \"ex_date\": \"3-5-2022\", \"price\": 95, \"quantity\": 4, \"In Stock\": 654}, \"26\": {\"name\": \"Mouse\", \"ex_date\": \"3-6-2022\", \"price\": 95, \"quantity\": 1, \"In Stock\": 654}, \"27\": {\"name\": \"Oreo\", \"ex_date\": \"3-7-2022\", \"price\": 95, \"quantity\": 2, \"In Stock\": 654}, \"28\": {\"name\": \"Snacks\", \"ex_date\": \"4-5-2022\", \"price\": 95, \"quantity\": 4, \"In Stock\": 654}, \"29\": {\"name\": \"Chips\", \"ex_date\": \"5-5-2022\", \"price\": 95, \"quantity\": 1, \"In Stock\": 654}, \"30\": {\"name\": \"Bonvita\", \"ex_date\": \"7-5-2022\", \"price\": 95, \"quantity\": 5, \"In Stock\": 654}}'"
      ]
     },
     "execution_count": 5,
     "metadata": {},
     "output_type": "execute_result"
    }
   ],
   "source": [
    "js"
   ]
  },
  {
   "cell_type": "code",
   "execution_count": 6,
   "id": "3ad86e42",
   "metadata": {},
   "outputs": [],
   "source": [
    "fd=open(\"record.json\",'w')\n",
    "fd.write(js)\n",
    "fd.close()"
   ]
  },
  {
   "cell_type": "code",
   "execution_count": 7,
   "id": "4c4b6006",
   "metadata": {},
   "outputs": [],
   "source": [
    "fd=open(\"record.json\",'r')\n",
    "txt=fd.read()\n",
    "fd.close()\n"
   ]
  },
  {
   "cell_type": "code",
   "execution_count": 8,
   "id": "0321df17",
   "metadata": {},
   "outputs": [
    {
     "data": {
      "text/plain": [
       "'{\"1\": {\"name\": \"Bread\", \"ex_date\": \"21-6-2022\", \"price\": 12, \"quantity\": 1, \"In Stock\": 100}, \"2\": {\"name\": \"Jam\", \"ex_date\": \"22-7-2022\", \"price\": 45, \"quantity\": 2, \"In Stock\": 100}, \"3\": {\"name\": \"Spinach\", \"ex_date\": \"23-5-2022\", \"price\": 20, \"quantity\": 3, \"In Stock\": 100}, \"4\": {\"name\": \"Apple_cake\", \"ex_date\": \"24-5-2022\", \"price\": 525, \"quantity\": 1, \"In Stock\": 100}, \"5\": {\"name\": \"Barbon\", \"ex_date\": \"13-5-2022\", \"price\": 15, \"quantity\": 1, \"In Stock\": 100}, \"6\": {\"name\": \"Carrot\", \"ex_date\": \"23-7-2022\", \"price\": 5, \"quantity\": 1, \"In Stock\": 100}, \"7\": {\"name\": \"Ladies finger\", \"ex_date\": \"23-8-2022\", \"price\": 25, \"quantity\": 1, \"In Stock\": 100}, \"8\": {\"name\": \"Soap\", \"ex_date\": \"23-2-2022\", \"price\": 100, \"quantity\": 1, \"In Stock\": 100}, \"9\": {\"name\": \"Sampoo\", \"ex_date\": \"26-5-2022\", \"price\": 30, \"quantity\": 5, \"In Stock\": 100}, \"10\": {\"name\": \"Biscut\", \"ex_date\": \"3-5-2022\", \"price\": 35, \"quantity\": 1, \"In Stock\": 100}, \"11\": {\"name\": \"Chocolate\", \"ex_date\": \"3-5-2022\", \"price\": 5, \"quantity\": 1, \"In Stock\": 100}, \"12\": {\"name\": \"Good Day\", \"ex_date\": \"3-5-2023\", \"price\": 10, \"quantity\": 1, \"In Stock\": 100}, \"13\": {\"name\": \"Dairy Milk\", \"ex_date\": \"3-7-2022\", \"price\": 40, \"quantity\": 2, \"In Stock\": 1000}, \"14\": {\"name\": \"Munch\", \"ex_date\": \"3-5-2022\", \"price\": 35, \"quantity\": 1, \"In Stock\": 100}, \"15\": {\"name\": \"Cherry\", \"ex_date\": \"3-5-2022\", \"price\": 45, \"quantity\": 1, \"In Stock\": 190}, \"16\": {\"name\": \"Almond\", \"ex_date\": \"17-6-2027\", \"price\": 34, \"quantity\": 2, \"In Stock\": 560}, \"17\": {\"name\": \"Cashew\", \"ex_date\": \"4-5-2022\", \"price\": 200, \"quantity\": 3, \"In Stock\": 700}, \"18\": {\"name\": \"Walnut\", \"ex_date\": \"3-5-2023\", \"price\": 700, \"quantity\": 1, \"In Stock\": 650}, \"19\": {\"name\": \"fanta\", \"ex_date\": \"3-5-2027\", \"price\": 50, \"quantity\": 1, \"In Stock\": 3450}, \"20\": {\"name\": \"Cocke\", \"ex_date\": \"3-5-2027\", \"price\": 45, \"quantity\": 6, \"In Stock\": 564}, \"21\": {\"name\": \"Brinjal\", \"ex_date\": \"3-5-2022\", \"price\": 35, \"quantity\": 1, \"In Stock\": 543}, \"22\": {\"name\": \"Milky Chanky\", \"ex_date\": \"3-5-2022\", \"price\": 95, \"quantity\": 4, \"In Stock\": 654}, \"23\": {\"name\": \"Boost\", \"ex_date\": \"3-5-2022\", \"price\": 95, \"quantity\": 4, \"In Stock\": 654}, \"24\": {\"name\": \"Horlicks\", \"ex_date\": \"3-5-2022\", \"price\": 95, \"quantity\": 3, \"In Stock\": 654}, \"25\": {\"name\": \"Earphone\", \"ex_date\": \"3-5-2022\", \"price\": 95, \"quantity\": 4, \"In Stock\": 654}, \"26\": {\"name\": \"Mouse\", \"ex_date\": \"3-6-2022\", \"price\": 95, \"quantity\": 1, \"In Stock\": 654}, \"27\": {\"name\": \"Oreo\", \"ex_date\": \"3-7-2022\", \"price\": 95, \"quantity\": 2, \"In Stock\": 654}, \"28\": {\"name\": \"Snacks\", \"ex_date\": \"4-5-2022\", \"price\": 95, \"quantity\": 4, \"In Stock\": 654}, \"29\": {\"name\": \"Chips\", \"ex_date\": \"5-5-2022\", \"price\": 95, \"quantity\": 1, \"In Stock\": 654}, \"30\": {\"name\": \"Bonvita\", \"ex_date\": \"7-5-2022\", \"price\": 95, \"quantity\": 5, \"In Stock\": 654}}'"
      ]
     },
     "execution_count": 8,
     "metadata": {},
     "output_type": "execute_result"
    }
   ],
   "source": [
    "txt"
   ]
  },
  {
   "cell_type": "code",
   "execution_count": 9,
   "id": "e3f6dd7c",
   "metadata": {},
   "outputs": [],
   "source": [
    "record = json.loads(txt)"
   ]
  },
  {
   "cell_type": "code",
   "execution_count": 10,
   "id": "e7bc56d5",
   "metadata": {},
   "outputs": [
    {
     "data": {
      "text/plain": [
       "{'1': {'name': 'Bread',\n",
       "  'ex_date': '21-6-2022',\n",
       "  'price': 12,\n",
       "  'quantity': 1,\n",
       "  'In Stock': 100},\n",
       " '2': {'name': 'Jam',\n",
       "  'ex_date': '22-7-2022',\n",
       "  'price': 45,\n",
       "  'quantity': 2,\n",
       "  'In Stock': 100},\n",
       " '3': {'name': 'Spinach',\n",
       "  'ex_date': '23-5-2022',\n",
       "  'price': 20,\n",
       "  'quantity': 3,\n",
       "  'In Stock': 100},\n",
       " '4': {'name': 'Apple_cake',\n",
       "  'ex_date': '24-5-2022',\n",
       "  'price': 525,\n",
       "  'quantity': 1,\n",
       "  'In Stock': 100},\n",
       " '5': {'name': 'Barbon',\n",
       "  'ex_date': '13-5-2022',\n",
       "  'price': 15,\n",
       "  'quantity': 1,\n",
       "  'In Stock': 100},\n",
       " '6': {'name': 'Carrot',\n",
       "  'ex_date': '23-7-2022',\n",
       "  'price': 5,\n",
       "  'quantity': 1,\n",
       "  'In Stock': 100},\n",
       " '7': {'name': 'Ladies finger',\n",
       "  'ex_date': '23-8-2022',\n",
       "  'price': 25,\n",
       "  'quantity': 1,\n",
       "  'In Stock': 100},\n",
       " '8': {'name': 'Soap',\n",
       "  'ex_date': '23-2-2022',\n",
       "  'price': 100,\n",
       "  'quantity': 1,\n",
       "  'In Stock': 100},\n",
       " '9': {'name': 'Sampoo',\n",
       "  'ex_date': '26-5-2022',\n",
       "  'price': 30,\n",
       "  'quantity': 5,\n",
       "  'In Stock': 100},\n",
       " '10': {'name': 'Biscut',\n",
       "  'ex_date': '3-5-2022',\n",
       "  'price': 35,\n",
       "  'quantity': 1,\n",
       "  'In Stock': 100},\n",
       " '11': {'name': 'Chocolate',\n",
       "  'ex_date': '3-5-2022',\n",
       "  'price': 5,\n",
       "  'quantity': 1,\n",
       "  'In Stock': 100},\n",
       " '12': {'name': 'Good Day',\n",
       "  'ex_date': '3-5-2023',\n",
       "  'price': 10,\n",
       "  'quantity': 1,\n",
       "  'In Stock': 100},\n",
       " '13': {'name': 'Dairy Milk',\n",
       "  'ex_date': '3-7-2022',\n",
       "  'price': 40,\n",
       "  'quantity': 2,\n",
       "  'In Stock': 1000},\n",
       " '14': {'name': 'Munch',\n",
       "  'ex_date': '3-5-2022',\n",
       "  'price': 35,\n",
       "  'quantity': 1,\n",
       "  'In Stock': 100},\n",
       " '15': {'name': 'Cherry',\n",
       "  'ex_date': '3-5-2022',\n",
       "  'price': 45,\n",
       "  'quantity': 1,\n",
       "  'In Stock': 190},\n",
       " '16': {'name': 'Almond',\n",
       "  'ex_date': '17-6-2027',\n",
       "  'price': 34,\n",
       "  'quantity': 2,\n",
       "  'In Stock': 560},\n",
       " '17': {'name': 'Cashew',\n",
       "  'ex_date': '4-5-2022',\n",
       "  'price': 200,\n",
       "  'quantity': 3,\n",
       "  'In Stock': 700},\n",
       " '18': {'name': 'Walnut',\n",
       "  'ex_date': '3-5-2023',\n",
       "  'price': 700,\n",
       "  'quantity': 1,\n",
       "  'In Stock': 650},\n",
       " '19': {'name': 'fanta',\n",
       "  'ex_date': '3-5-2027',\n",
       "  'price': 50,\n",
       "  'quantity': 1,\n",
       "  'In Stock': 3450},\n",
       " '20': {'name': 'Cocke',\n",
       "  'ex_date': '3-5-2027',\n",
       "  'price': 45,\n",
       "  'quantity': 6,\n",
       "  'In Stock': 564},\n",
       " '21': {'name': 'Brinjal',\n",
       "  'ex_date': '3-5-2022',\n",
       "  'price': 35,\n",
       "  'quantity': 1,\n",
       "  'In Stock': 543},\n",
       " '22': {'name': 'Milky Chanky',\n",
       "  'ex_date': '3-5-2022',\n",
       "  'price': 95,\n",
       "  'quantity': 4,\n",
       "  'In Stock': 654},\n",
       " '23': {'name': 'Boost',\n",
       "  'ex_date': '3-5-2022',\n",
       "  'price': 95,\n",
       "  'quantity': 4,\n",
       "  'In Stock': 654},\n",
       " '24': {'name': 'Horlicks',\n",
       "  'ex_date': '3-5-2022',\n",
       "  'price': 95,\n",
       "  'quantity': 3,\n",
       "  'In Stock': 654},\n",
       " '25': {'name': 'Earphone',\n",
       "  'ex_date': '3-5-2022',\n",
       "  'price': 95,\n",
       "  'quantity': 4,\n",
       "  'In Stock': 654},\n",
       " '26': {'name': 'Mouse',\n",
       "  'ex_date': '3-6-2022',\n",
       "  'price': 95,\n",
       "  'quantity': 1,\n",
       "  'In Stock': 654},\n",
       " '27': {'name': 'Oreo',\n",
       "  'ex_date': '3-7-2022',\n",
       "  'price': 95,\n",
       "  'quantity': 2,\n",
       "  'In Stock': 654},\n",
       " '28': {'name': 'Snacks',\n",
       "  'ex_date': '4-5-2022',\n",
       "  'price': 95,\n",
       "  'quantity': 4,\n",
       "  'In Stock': 654},\n",
       " '29': {'name': 'Chips',\n",
       "  'ex_date': '5-5-2022',\n",
       "  'price': 95,\n",
       "  'quantity': 1,\n",
       "  'In Stock': 654},\n",
       " '30': {'name': 'Bonvita',\n",
       "  'ex_date': '7-5-2022',\n",
       "  'price': 95,\n",
       "  'quantity': 5,\n",
       "  'In Stock': 654}}"
      ]
     },
     "execution_count": 10,
     "metadata": {},
     "output_type": "execute_result"
    }
   ],
   "source": [
    "record"
   ]
  },
  {
   "cell_type": "code",
   "execution_count": 11,
   "id": "69f20377",
   "metadata": {},
   "outputs": [
    {
     "name": "stdout",
     "output_type": "stream",
     "text": [
      "-------------------------------------------\n",
      "Welcome to Xenon SuperMarket\n",
      "-------------------------------------------\n",
      "\n",
      "1.View items\n",
      "2.Buy items\n",
      "3.Exit\n",
      "\n",
      "Enter your option :1\n",
      "----------------------------------\n",
      "Items available in Xenon Supermarket\n",
      "----------------------------------\n",
      "{\"1\": {\"name\": \"Bread\", \"ex_date\": \"21-6-2022\", \"price\": 12, \"quantity\": 1, \"In Stock\": 100}, \"2\": {\"name\": \"Jam\", \"ex_date\": \"22-7-2022\", \"price\": 45, \"quantity\": 2, \"In Stock\": 100}, \"3\": {\"name\": \"Spinach\", \"ex_date\": \"23-5-2022\", \"price\": 20, \"quantity\": 3, \"In Stock\": 100}, \"4\": {\"name\": \"Apple_cake\", \"ex_date\": \"24-5-2022\", \"price\": 525, \"quantity\": 1, \"In Stock\": 100}, \"5\": {\"name\": \"Barbon\", \"ex_date\": \"13-5-2022\", \"price\": 15, \"quantity\": 1, \"In Stock\": 100}, \"6\": {\"name\": \"Carrot\", \"ex_date\": \"23-7-2022\", \"price\": 5, \"quantity\": 1, \"In Stock\": 100}, \"7\": {\"name\": \"Ladies finger\", \"ex_date\": \"23-8-2022\", \"price\": 25, \"quantity\": 1, \"In Stock\": 100}, \"8\": {\"name\": \"Soap\", \"ex_date\": \"23-2-2022\", \"price\": 100, \"quantity\": 1, \"In Stock\": 100}, \"9\": {\"name\": \"Sampoo\", \"ex_date\": \"26-5-2022\", \"price\": 30, \"quantity\": 5, \"In Stock\": 100}, \"10\": {\"name\": \"Biscut\", \"ex_date\": \"3-5-2022\", \"price\": 35, \"quantity\": 1, \"In Stock\": 100}, \"11\": {\"name\": \"Chocolate\", \"ex_date\": \"3-5-2022\", \"price\": 5, \"quantity\": 1, \"In Stock\": 100}, \"12\": {\"name\": \"Good Day\", \"ex_date\": \"3-5-2023\", \"price\": 10, \"quantity\": 1, \"In Stock\": 100}, \"13\": {\"name\": \"Dairy Milk\", \"ex_date\": \"3-7-2022\", \"price\": 40, \"quantity\": 2, \"In Stock\": 1000}, \"14\": {\"name\": \"Munch\", \"ex_date\": \"3-5-2022\", \"price\": 35, \"quantity\": 1, \"In Stock\": 100}, \"15\": {\"name\": \"Cherry\", \"ex_date\": \"3-5-2022\", \"price\": 45, \"quantity\": 1, \"In Stock\": 190}, \"16\": {\"name\": \"Almond\", \"ex_date\": \"17-6-2027\", \"price\": 34, \"quantity\": 2, \"In Stock\": 560}, \"17\": {\"name\": \"Cashew\", \"ex_date\": \"4-5-2022\", \"price\": 200, \"quantity\": 3, \"In Stock\": 700}, \"18\": {\"name\": \"Walnut\", \"ex_date\": \"3-5-2023\", \"price\": 700, \"quantity\": 1, \"In Stock\": 650}, \"19\": {\"name\": \"fanta\", \"ex_date\": \"3-5-2027\", \"price\": 50, \"quantity\": 1, \"In Stock\": 3450}, \"20\": {\"name\": \"Cocke\", \"ex_date\": \"3-5-2027\", \"price\": 45, \"quantity\": 6, \"In Stock\": 564}, \"21\": {\"name\": \"Brinjal\", \"ex_date\": \"3-5-2022\", \"price\": 35, \"quantity\": 1, \"In Stock\": 543}, \"22\": {\"name\": \"Milky Chanky\", \"ex_date\": \"3-5-2022\", \"price\": 95, \"quantity\": 4, \"In Stock\": 654}, \"23\": {\"name\": \"Boost\", \"ex_date\": \"3-5-2022\", \"price\": 95, \"quantity\": 4, \"In Stock\": 654}, \"24\": {\"name\": \"Horlicks\", \"ex_date\": \"3-5-2022\", \"price\": 95, \"quantity\": 3, \"In Stock\": 654}, \"25\": {\"name\": \"Earphone\", \"ex_date\": \"3-5-2022\", \"price\": 95, \"quantity\": 4, \"In Stock\": 654}, \"26\": {\"name\": \"Mouse\", \"ex_date\": \"3-6-2022\", \"price\": 95, \"quantity\": 1, \"In Stock\": 654}, \"27\": {\"name\": \"Oreo\", \"ex_date\": \"3-7-2022\", \"price\": 95, \"quantity\": 2, \"In Stock\": 654}, \"28\": {\"name\": \"Snacks\", \"ex_date\": \"4-5-2022\", \"price\": 95, \"quantity\": 4, \"In Stock\": 654}, \"29\": {\"name\": \"Chips\", \"ex_date\": \"5-5-2022\", \"price\": 95, \"quantity\": 1, \"In Stock\": 654}, \"30\": {\"name\": \"Bonvita\", \"ex_date\": \"7-5-2022\", \"price\": 95, \"quantity\": 5, \"In Stock\": 654}}\n",
      "----------------------------------\n",
      "Please enter the items and quantity key which you would like to purchase:\n",
      "1 2\n",
      "{'1': 2}\n",
      "2 3\n",
      "{'1': 2, '2': 3}\n",
      "5 6\n",
      "{'1': 2, '2': 3, '5': 6}\n",
      "7 3\n",
      "{'1': 2, '2': 3, '5': 6, '7': 3}\n",
      "10 4\n",
      "{'1': 2, '2': 3, '5': 6, '7': 3, '10': 4}\n"
     ]
    }
   ],
   "source": [
    "print(\"-------------------------------------------\")\n",
    "print(\"Welcome to Xenon SuperMarket\")\n",
    "print(\"-------------------------------------------\")\n",
    "print('''\n",
    "1.View items\n",
    "2.Buy items\n",
    "3.Exit\n",
    "''')\n",
    "choice = int(input(\"Enter your option :\"))\n",
    "if choice == 1:\n",
    "    print(\"----------------------------------\")\n",
    "    print(\"Items available in Xenon Supermarket\")\n",
    "    print('----------------------------------')\n",
    "    print(txt)\n",
    "    print('----------------------------------')\n",
    "    print('Please enter the items and quantity key which you would like to purchase:')\n",
    "    pur={}\n",
    "    for i in range (0,5):\n",
    "     n=input()\n",
    "     m=n.split(' ')\n",
    "     pur[m[0]] = int(m[1])\n",
    "     print(pur)\n",
    "        \n",
    "if choice==2:\n",
    "    print(\"Products you have ordrered\")\n",
    "        \n",
    "\n",
    "\n",
    "    \n",
    "    \n",
    "\n",
    "\n",
    "\n"
   ]
  },
  {
   "cell_type": "code",
   "execution_count": 12,
   "id": "08e46a03",
   "metadata": {},
   "outputs": [
    {
     "name": "stdout",
     "output_type": "stream",
     "text": [
      "you ordered 2 Bread\n",
      "Cost 24 \n",
      "you ordered 3 Jam\n",
      "Cost 135 \n",
      "you ordered 6 Barbon\n",
      "Cost 90 \n",
      "you ordered 3 Ladies finger\n",
      "Cost 75 \n",
      "you ordered 4 Biscut\n",
      "Cost 140 \n",
      "Total bill :  464\n"
     ]
    }
   ],
   "source": [
    "\n",
    "    \n",
    "    amount=0\n",
    "    for i in pur:    \n",
    "        if(i in record.keys()):\n",
    "            print('you ordered {} {}'. format(pur[i],record[i][\"name\"]))\n",
    "            print('Cost {} '. format(pur[i]*record[i][\"price\"]))\n",
    "            amount+=pur[i]*record[i][\"price\"]\n",
    "        \n",
    "    print('Total bill : ',amount)\n",
    "    "
   ]
  },
  {
   "cell_type": "markdown",
   "id": "1e0322ce",
   "metadata": {},
   "source": [
    "#### "
   ]
  },
  {
   "cell_type": "code",
   "execution_count": null,
   "id": "7b493324",
   "metadata": {},
   "outputs": [],
   "source": []
  },
  {
   "cell_type": "code",
   "execution_count": 13,
   "id": "894d8354",
   "metadata": {},
   "outputs": [
    {
     "name": "stdout",
     "output_type": "stream",
     "text": [
      "Your Order\n",
      "-------------------------------\n",
      "you ordered 2 Bread\n",
      "you ordered 3 Jam\n",
      "you ordered 6 Barbon\n",
      "you ordered 3 Ladies finger\n",
      "you ordered 4 Biscut\n",
      "Total bill :  464\n",
      "-------------------------------\n",
      " Thanks for purchase ! \n",
      " Visit again ! \n",
      "-------------------------------\n"
     ]
    }
   ],
   "source": [
    "print(\"Your Order\")\n",
    "print(\"-------------------------------\")\n",
    "\n",
    "for i in pur:\n",
    " if(i in record.keys()):\n",
    "            print('you ordered {} {}'. format(pur[i],record[i][\"name\"]))\n",
    "        \n",
    "print('Total bill : ',amount)\n",
    "print(\"-------------------------------\")\n",
    "print(\" Thanks for purchase ! \")\n",
    "print(\" Visit again ! \")\n",
    "print(\"-------------------------------\")\n",
    "  "
   ]
  },
  {
   "cell_type": "code",
   "execution_count": 14,
   "id": "202d3e78",
   "metadata": {},
   "outputs": [
    {
     "name": "stdout",
     "output_type": "stream",
     "text": [
      "{'1': {'name': 'Bread', 'ex_date': '21-6-2022', 'price': 12, 'quantity': 1, 'In Stock': 98}, '2': {'name': 'Jam', 'ex_date': '22-7-2022', 'price': 45, 'quantity': 2, 'In Stock': 97}, '3': {'name': 'Spinach', 'ex_date': '23-5-2022', 'price': 20, 'quantity': 3, 'In Stock': 100}, '4': {'name': 'Apple_cake', 'ex_date': '24-5-2022', 'price': 525, 'quantity': 1, 'In Stock': 100}, '5': {'name': 'Barbon', 'ex_date': '13-5-2022', 'price': 15, 'quantity': 1, 'In Stock': 94}, '6': {'name': 'Carrot', 'ex_date': '23-7-2022', 'price': 5, 'quantity': 1, 'In Stock': 100}, '7': {'name': 'Ladies finger', 'ex_date': '23-8-2022', 'price': 25, 'quantity': 1, 'In Stock': 97}, '8': {'name': 'Soap', 'ex_date': '23-2-2022', 'price': 100, 'quantity': 1, 'In Stock': 100}, '9': {'name': 'Sampoo', 'ex_date': '26-5-2022', 'price': 30, 'quantity': 5, 'In Stock': 100}, '10': {'name': 'Biscut', 'ex_date': '3-5-2022', 'price': 35, 'quantity': 1, 'In Stock': 96}, '11': {'name': 'Chocolate', 'ex_date': '3-5-2022', 'price': 5, 'quantity': 1, 'In Stock': 100}, '12': {'name': 'Good Day', 'ex_date': '3-5-2023', 'price': 10, 'quantity': 1, 'In Stock': 100}, '13': {'name': 'Dairy Milk', 'ex_date': '3-7-2022', 'price': 40, 'quantity': 2, 'In Stock': 1000}, '14': {'name': 'Munch', 'ex_date': '3-5-2022', 'price': 35, 'quantity': 1, 'In Stock': 100}, '15': {'name': 'Cherry', 'ex_date': '3-5-2022', 'price': 45, 'quantity': 1, 'In Stock': 190}, '16': {'name': 'Almond', 'ex_date': '17-6-2027', 'price': 34, 'quantity': 2, 'In Stock': 560}, '17': {'name': 'Cashew', 'ex_date': '4-5-2022', 'price': 200, 'quantity': 3, 'In Stock': 700}, '18': {'name': 'Walnut', 'ex_date': '3-5-2023', 'price': 700, 'quantity': 1, 'In Stock': 650}, '19': {'name': 'fanta', 'ex_date': '3-5-2027', 'price': 50, 'quantity': 1, 'In Stock': 3450}, '20': {'name': 'Cocke', 'ex_date': '3-5-2027', 'price': 45, 'quantity': 6, 'In Stock': 564}, '21': {'name': 'Brinjal', 'ex_date': '3-5-2022', 'price': 35, 'quantity': 1, 'In Stock': 543}, '22': {'name': 'Milky Chanky', 'ex_date': '3-5-2022', 'price': 95, 'quantity': 4, 'In Stock': 654}, '23': {'name': 'Boost', 'ex_date': '3-5-2022', 'price': 95, 'quantity': 4, 'In Stock': 654}, '24': {'name': 'Horlicks', 'ex_date': '3-5-2022', 'price': 95, 'quantity': 3, 'In Stock': 654}, '25': {'name': 'Earphone', 'ex_date': '3-5-2022', 'price': 95, 'quantity': 4, 'In Stock': 654}, '26': {'name': 'Mouse', 'ex_date': '3-6-2022', 'price': 95, 'quantity': 1, 'In Stock': 654}, '27': {'name': 'Oreo', 'ex_date': '3-7-2022', 'price': 95, 'quantity': 2, 'In Stock': 654}, '28': {'name': 'Snacks', 'ex_date': '4-5-2022', 'price': 95, 'quantity': 4, 'In Stock': 654}, '29': {'name': 'Chips', 'ex_date': '5-5-2022', 'price': 95, 'quantity': 1, 'In Stock': 654}, '30': {'name': 'Bonvita', 'ex_date': '7-5-2022', 'price': 95, 'quantity': 5, 'In Stock': 654}}\n"
     ]
    }
   ],
   "source": [
    "for i in pur:\n",
    "    if(i in record.keys()):\n",
    "        record[i][\"In Stock\"] = record[i][\"In Stock\"] - pur[i]\n",
    "print(record)"
   ]
  },
  {
   "cell_type": "code",
   "execution_count": 15,
   "id": "8751af0f",
   "metadata": {},
   "outputs": [],
   "source": [
    "import time"
   ]
  },
  {
   "cell_type": "code",
   "execution_count": 16,
   "id": "6429a414",
   "metadata": {},
   "outputs": [
    {
     "data": {
      "text/plain": [
       "'Mon Sep  6 04:09:46 2021'"
      ]
     },
     "execution_count": 16,
     "metadata": {},
     "output_type": "execute_result"
    }
   ],
   "source": [
    "time.ctime()"
   ]
  },
  {
   "cell_type": "code",
   "execution_count": null,
   "id": "5ee4a2e9",
   "metadata": {},
   "outputs": [],
   "source": []
  }
 ],
 "metadata": {
  "kernelspec": {
   "display_name": "Python 3",
   "language": "python",
   "name": "python3"
  },
  "language_info": {
   "codemirror_mode": {
    "name": "ipython",
    "version": 3
   },
   "file_extension": ".py",
   "mimetype": "text/x-python",
   "name": "python",
   "nbconvert_exporter": "python",
   "pygments_lexer": "ipython3",
   "version": "3.8.8"
  }
 },
 "nbformat": 4,
 "nbformat_minor": 5
}
